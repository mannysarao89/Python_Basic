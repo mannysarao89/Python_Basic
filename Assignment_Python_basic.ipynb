{
  "nbformat": 4,
  "nbformat_minor": 0,
  "metadata": {
    "colab": {
      "provenance": []
    },
    "kernelspec": {
      "name": "python3",
      "display_name": "Python 3"
    },
    "language_info": {
      "name": "python"
    }
  },
  "cells": [
    {
      "cell_type": "markdown",
      "source": [
        "Assignment : Python basics\n",
        "\n",
        "Python Basics Questions\n",
        "\n",
        "\n",
        "1.\tWhat is Python, and why is it popular?\n",
        "- Python is a programming language that let us code or develop things as per the need. It is very popular due to its features like easy to use, versatility, job demand, supportive community and open source.\n",
        "\n",
        "\n",
        "2.\tWhat is an interpreter in Python?\n",
        "- A python interpreter is a computer program that converts each high-level program statement into machine code. An interpreter translates the command that you write out into code that the computer can understand.\n",
        "\n",
        "\n",
        "3.\tWhat are pre-defined keywords in Python?\n",
        "- Pre-defined Keywords are the words that are reserved by the language for specific purposes. These words have a special meaning to the interpreter. We cannot use them as any identifier.\n",
        "\n",
        "\n",
        "4.\tCan keywords be used as variable names?\n",
        "- Keywords cannot be used as variable names in python. If we try to do so the interpreter will give a syntax error.\n",
        "\n",
        "\n",
        "5.\tWhat is mutability in Python?\n",
        "- Mutability is an ability to change items in Python. For Example, Items inside a List are mutable that means we can append, pop, remove or clear the items inside a list.\n",
        "\n",
        "\n",
        "6.\tWhy are lists mutable, but tuples are immutable?\n",
        "- Lists and tuples both are 2 different data structures. We use lists when we are working with changing data. It requires more time to execute and acquire more memory. Hence, they are mutable. Tuples are used where the data stay unchanged. It gets executed faster than lists and acquire less memory then Lists.\n",
        "\n",
        "\n",
        "7.\tWhat is the difference between “==” and “is” operators in Python?\n",
        "- Both operators are comparing operators however “==” compares the value of the objects and “is” compares the identity of the objects.\n",
        "\n",
        "\n",
        "8.\tWhat are logical operators in Python?\n",
        "- Logical operators or Boolean operators are used in Boolean expressions. They can be used to combine or modify the expressions as per the need.\n",
        "\n",
        "\n",
        "9.\tWhat is type casting in Python?\n",
        "- Type casting is a process of changing the data type of a variable to carry out various operations.\n",
        "\n",
        "\n",
        "10.\tWhat is the difference between implicit and explicit type casting?\n",
        "- Type Casting that is done by interpreter automatically is called implicit type casting. It is considered safer. However, when it is done by a programmer by using in-built functions manually then it is called explicit type casting. It is considered less safe as it is done manually, they are potential to error.\n",
        "\n",
        "\n",
        "11.\tWhat is the purpose of conditional statements in Python?\n",
        "- Conditional statements solve the purpose of conditional executions. We can execute or ignore a block of program as per given conditions. These statements enable program to make decisions and handle different situations depending upon conditions.\n",
        "\n",
        "\n",
        "12.\tHow does the elif statement work?\n",
        "- “Elif” is a keyword in python which means “Else if”. It is executed when “If” conditions are false, the interpreter will ignore the block inside “if” statement and will go for “Elif” condition. If the “elif” condition is true then interpreter will execute the block inside “Elif” statement. At last, if the “elif” is also false then the interpreter will execute the else” statement and will exit the program.\n",
        "\n",
        "\n",
        "13.\tWhat is the difference between for and while loops?\n",
        "- Both loops are widely used in python. Major difference in them is: “for” loop is used when the programmer knows the range of the iteration however, “While” loop is executed on the given condition. The range is unknown hence, the iterations will occur until the conditions are true.\n",
        "\n",
        "\n",
        "14.\tDescribe a scenario where a while loop is more suitable than a for loop?\n",
        "- While loop is more suitable where we donot know the amount of rounds we need to get a desired result for example imagine you want to ask the user for a number between 1 and 10 until they provide a valid input. Since you do not know beforehand how many attempts the user might take we will use a while loop.\n"
      ],
      "metadata": {
        "id": "ZX7WA3pJ6kp5"
      }
    },
    {
      "cell_type": "markdown",
      "source": [
        "Practical Questions\n",
        "\n",
        "1. Write a Python program to print \"Hello, World!"
      ],
      "metadata": {
        "id": "gNl1qIUd-6p4"
      }
    },
    {
      "cell_type": "code",
      "execution_count": 1,
      "metadata": {
        "colab": {
          "base_uri": "https://localhost:8080/"
        },
        "id": "iK-Llrkt6UTU",
        "outputId": "51e9fc54-328d-4eee-e4c8-8ebf194d5279"
      },
      "outputs": [
        {
          "output_type": "stream",
          "name": "stdout",
          "text": [
            "Hello, World!\n"
          ]
        }
      ],
      "source": [
        "print(\"Hello, World!\")"
      ]
    },
    {
      "cell_type": "markdown",
      "source": [
        "2. Write a Python program that displays your name and age8"
      ],
      "metadata": {
        "id": "HggNuavG_QGF"
      }
    },
    {
      "cell_type": "code",
      "source": [
        "print(\"My name is Maninder Sarao and my age is 36\")"
      ],
      "metadata": {
        "colab": {
          "base_uri": "https://localhost:8080/"
        },
        "id": "pmhVAMk0_L7s",
        "outputId": "c4cfc02b-7094-49ba-9866-799764900a91"
      },
      "execution_count": 2,
      "outputs": [
        {
          "output_type": "stream",
          "name": "stdout",
          "text": [
            "My name is Maninder Sarao and my age is 36\n"
          ]
        }
      ]
    },
    {
      "cell_type": "markdown",
      "source": [
        "3.\tWrite code to print all the pre-defined keywords in Python using the keyword library"
      ],
      "metadata": {
        "id": "UBsMqkQc_ZOO"
      }
    },
    {
      "cell_type": "code",
      "source": [
        "import keyword\n",
        "print(keyword.kwlist)\n"
      ],
      "metadata": {
        "colab": {
          "base_uri": "https://localhost:8080/"
        },
        "id": "-BbeHaFK_XE9",
        "outputId": "d9034cf7-570d-49e3-93c1-64c466baec73"
      },
      "execution_count": 3,
      "outputs": [
        {
          "output_type": "stream",
          "name": "stdout",
          "text": [
            "['False', 'None', 'True', 'and', 'as', 'assert', 'async', 'await', 'break', 'class', 'continue', 'def', 'del', 'elif', 'else', 'except', 'finally', 'for', 'from', 'global', 'if', 'import', 'in', 'is', 'lambda', 'nonlocal', 'not', 'or', 'pass', 'raise', 'return', 'try', 'while', 'with', 'yield']\n"
          ]
        }
      ]
    },
    {
      "cell_type": "markdown",
      "source": [
        "4.\tWrite a program that checks if a given word is a Python keyword."
      ],
      "metadata": {
        "id": "qD6h1CI-_tyE"
      }
    },
    {
      "cell_type": "code",
      "source": [
        "import keyword\n",
        "word_input = \"\"\n",
        "while word_input != \"quit\":\n",
        "  word_input = input(\"Enter a word (or 'quit' to exit): \")\n",
        "  print(f\"You Entered: {word_input}\")\n",
        "  if word_input in keyword.kwlist:\n",
        "    print(word_input, \"is a keyword\")\n",
        "  else:\n",
        "    print(word_input, \"is not a keyword\")\n",
        "print(\"Exiting...\")"
      ],
      "metadata": {
        "colab": {
          "base_uri": "https://localhost:8080/"
        },
        "id": "VgSERCim_hMg",
        "outputId": "83e7a944-e6f8-459a-a260-992e3c459be9"
      },
      "execution_count": 5,
      "outputs": [
        {
          "output_type": "stream",
          "name": "stdout",
          "text": [
            "Enter a word (or 'quit' to exit): await\n",
            "You Entered: await\n",
            "await is a keyword\n",
            "Enter a word (or 'quit' to exit): and\n",
            "You Entered: and\n",
            "and is a keyword\n",
            "Enter a word (or 'quit' to exit): test\n",
            "You Entered: test\n",
            "test is not a keyword\n",
            "Enter a word (or 'quit' to exit): quit\n",
            "You Entered: quit\n",
            "quit is not a keyword\n",
            "Exiting...\n"
          ]
        }
      ]
    },
    {
      "cell_type": "markdown",
      "source": [
        "5.\tCreate a list and tuple in Python, and demonstrate how attempting to change an element works differently for each."
      ],
      "metadata": {
        "id": "x80y4REtAJ_R"
      }
    },
    {
      "cell_type": "code",
      "source": [
        "## List\n",
        "Lst1 = [10, 12, 14, 15, 17, 21, 22, 25, 27, 29]\n",
        "Lst1.append(31)\n",
        "Lst1\n"
      ],
      "metadata": {
        "colab": {
          "base_uri": "https://localhost:8080/"
        },
        "id": "GV8l0OmlAPOx",
        "outputId": "1aac3adb-688e-45fe-c302-fb64fa3fb8db"
      },
      "execution_count": 6,
      "outputs": [
        {
          "output_type": "execute_result",
          "data": {
            "text/plain": [
              "[10, 12, 14, 15, 17, 21, 22, 25, 27, 29, 31]"
            ]
          },
          "metadata": {},
          "execution_count": 6
        }
      ]
    },
    {
      "cell_type": "code",
      "source": [
        "## Tuple\n",
        "Tuple1 = (1,2,3,4,5,6,7,8,9,10)\n",
        "Tuple1\n",
        "Lst2 = list(Tuple1)\n",
        "Lst2.append(11)\n",
        "Lst2\n",
        "Tuple2 = tuple(Lst2)\n",
        "Tuple2"
      ],
      "metadata": {
        "colab": {
          "base_uri": "https://localhost:8080/"
        },
        "id": "-CsCZGn5AVwx",
        "outputId": "782a7170-08b2-4002-aebc-6049362d1ca4"
      },
      "execution_count": 7,
      "outputs": [
        {
          "output_type": "execute_result",
          "data": {
            "text/plain": [
              "(1, 2, 3, 4, 5, 6, 7, 8, 9, 10, 11)"
            ]
          },
          "metadata": {},
          "execution_count": 7
        }
      ]
    },
    {
      "cell_type": "markdown",
      "source": [
        "6.\tWrite a function to demonstrate the behavior of mutable and immutable arguments."
      ],
      "metadata": {
        "id": "pgSztBnIBvxo"
      }
    },
    {
      "cell_type": "code",
      "source": [
        "def change_things(number, shopping_list):\n",
        "    print(\"Before changing inside function:\")\n",
        "    print(\"Number:\", number)\n",
        "    print(\"Shopping list:\", shopping_list)\n",
        "\n",
        "    # Trying to change the number (immutable)\n",
        "    number = number + 10  # This makes a new number, old one stays same\n",
        "\n",
        "    # Changing the shopping list (mutable)\n",
        "    shopping_list.append(\"eggs\")  # This changes the original list\n",
        "\n",
        "    print(\"After changing inside function:\")\n",
        "    print(\"Number:\", number)\n",
        "    print(\"Shopping list:\", shopping_list)\n",
        "\n",
        "# Outside the function\n",
        "my_number = 5\n",
        "my_list = [\"milk\", \"bread\"]\n",
        "\n",
        "print(\"Before function:\")\n",
        "print(\"Number:\", my_number)\n",
        "print(\"Shopping list:\", my_list)\n",
        "\n",
        "change_things(my_number, my_list)\n",
        "\n",
        "print(\"After function:\")\n",
        "print(\"Number:\", my_number)        # Still 5 — didn’t change!\n",
        "print(\"Shopping list:\", my_list)"
      ],
      "metadata": {
        "colab": {
          "base_uri": "https://localhost:8080/"
        },
        "id": "1PFnMMOIAcWD",
        "outputId": "5527a561-229e-434c-a918-3701f4c2893d"
      },
      "execution_count": 8,
      "outputs": [
        {
          "output_type": "stream",
          "name": "stdout",
          "text": [
            "Before function:\n",
            "Number: 5\n",
            "Shopping list: ['milk', 'bread']\n",
            "Before changing inside function:\n",
            "Number: 5\n",
            "Shopping list: ['milk', 'bread']\n",
            "After changing inside function:\n",
            "Number: 15\n",
            "Shopping list: ['milk', 'bread', 'eggs']\n",
            "After function:\n",
            "Number: 5\n",
            "Shopping list: ['milk', 'bread', 'eggs']\n"
          ]
        }
      ]
    },
    {
      "cell_type": "markdown",
      "source": [
        "7. Write a program that performs basic arithmetic operations on two user-input numbers"
      ],
      "metadata": {
        "id": "4WD2pm6gB0Kd"
      }
    },
    {
      "cell_type": "code",
      "source": [
        "a = int(input(\"Enter first number: \"))\n",
        "b = int(input(\"Enter second number: \"))\n",
        "print(\"Answer is: \", a+b)\n"
      ],
      "metadata": {
        "colab": {
          "base_uri": "https://localhost:8080/"
        },
        "id": "0BbXgiveB9am",
        "outputId": "e29a5de3-3db3-4d66-c35a-55ac307c9484"
      },
      "execution_count": 9,
      "outputs": [
        {
          "output_type": "stream",
          "name": "stdout",
          "text": [
            "Enter first number: 1\n",
            "Enter second number: 2\n",
            "Answer is:  3\n"
          ]
        }
      ]
    },
    {
      "cell_type": "markdown",
      "source": [
        "8.\tWrite a program to demonstrate the use of logical operators"
      ],
      "metadata": {
        "id": "Q4158KkyCHL8"
      }
    },
    {
      "cell_type": "code",
      "source": [
        "a = 10\n",
        "b = 10\n",
        "c = -10\n",
        "if a > 0 and b > 0:\n",
        "    print(\"The numbers are greater than 0\")\n",
        "if a > 0 and b > 0 and c > 0:\n",
        "    print(\"The numbers are greater than 0\")\n",
        "else:\n",
        "    print(\"Atleast one number is not greater than 0\")\n"
      ],
      "metadata": {
        "colab": {
          "base_uri": "https://localhost:8080/"
        },
        "id": "qvJQT6wzCIXk",
        "outputId": "5084e4e7-9f02-4a3d-c670-3b1aaf4211f9"
      },
      "execution_count": 11,
      "outputs": [
        {
          "output_type": "stream",
          "name": "stdout",
          "text": [
            "The numbers are greater than 0\n",
            "Atleast one number is not greater than 0\n"
          ]
        }
      ]
    },
    {
      "cell_type": "markdown",
      "source": [
        "9.\tWrite a Python program to convert user input from string to integer, float, and boolean types."
      ],
      "metadata": {
        "id": "3HBktIaTCStD"
      }
    },
    {
      "cell_type": "code",
      "source": [
        "232# String to Integer\n",
        "x = int(input(\"Enter first number: \"))\n",
        "y = int(input(\"Enter second number: \"))\n",
        "print(\"Answer is: \", x+y)\n",
        "\n",
        "# String to Float\n",
        "c = float(input(\"Enter first number: \"))\n",
        "d = float(input(\"Enter second number: \"))\n",
        "print(\"Answer is: \", c+d)\n",
        "\n",
        "# String to Boolean\n",
        "a = bool(input(\"Enter first number: \"))\n",
        "b = bool(input(\"Enter second number: \"))\n",
        "print(\"Answer is: \", a, b)\n"
      ],
      "metadata": {
        "colab": {
          "base_uri": "https://localhost:8080/"
        },
        "id": "kPIIZdl8COH0",
        "outputId": "12cdd2d3-418a-400a-a64f-44e750ef0042"
      },
      "execution_count": 41,
      "outputs": [
        {
          "output_type": "stream",
          "name": "stdout",
          "text": [
            "Enter first number: 1\n",
            "Enter second number: 2\n",
            "Answer is:  3\n",
            "Enter first number: 3\n",
            "Enter second number: 4\n",
            "Answer is:  7.0\n",
            "Enter first number: 0\n",
            "Enter second number: 0\n",
            "Answer is:  True True\n"
          ]
        }
      ]
    },
    {
      "cell_type": "markdown",
      "source": [
        "10.\tWrite code to demonstrate type casting with list elements."
      ],
      "metadata": {
        "id": "DPdgqsqaC3gw"
      }
    },
    {
      "cell_type": "code",
      "source": [
        "str_numbers = [\"10\", \"20\", \"30\", \"40.5\"]\n",
        "\n",
        "# Convert all elements to integers (this will fail for \"40.5\" because it's a float string)\n",
        "try:\n",
        "    int_numbers = [int(num) for num in str_numbers]\n",
        "except ValueError:\n",
        "    print(\"Cannot convert all elements to int due to a float string.\")\n",
        "\n",
        "# Convert all elements to floats (this works even if they are integers or floats)\n",
        "float_numbers = [float(num) for num in str_numbers]\n",
        "\n",
        "print(\"Original list (strings):\", str_numbers)\n",
        "# print(\"Converted to integers:\", int_numbers)  # This would fail\n",
        "print(\"Converted to floats:\", float_numbers)\n"
      ],
      "metadata": {
        "colab": {
          "base_uri": "https://localhost:8080/"
        },
        "id": "RJ0SYkuJC71W",
        "outputId": "1a54a306-2c7b-4d6a-e684-75f234dadaad"
      },
      "execution_count": 19,
      "outputs": [
        {
          "output_type": "stream",
          "name": "stdout",
          "text": [
            "Cannot convert all elements to int due to a float string.\n",
            "Original list (strings): ['10', '20', '30', '40.5']\n",
            "Converted to floats: [10.0, 20.0, 30.0, 40.5]\n"
          ]
        }
      ]
    },
    {
      "cell_type": "markdown",
      "source": [
        "11.\tWrite a program that checks if a number is positive, negative, or zero."
      ],
      "metadata": {
        "id": "2o-chRu2L_Bq"
      }
    },
    {
      "cell_type": "code",
      "source": [
        "x = input(\"Enter your number: \" )\n",
        "if int (x) > 0:\n",
        "  print(\"Number is Positive\")\n",
        "elif int (x) < 0:\n",
        "  print(\"Number is Negative\")\n",
        "else:\n",
        "  print(\"Number is 0\")"
      ],
      "metadata": {
        "colab": {
          "base_uri": "https://localhost:8080/"
        },
        "id": "i8d7RNb-DtXi",
        "outputId": "a3702181-dd04-4349-87de-f716a2a376a0"
      },
      "execution_count": 22,
      "outputs": [
        {
          "output_type": "stream",
          "name": "stdout",
          "text": [
            "Enter your number: -1\n",
            "Number is Negative\n"
          ]
        }
      ]
    },
    {
      "cell_type": "markdown",
      "source": [
        "12.\tWrite a for loop to print numbers from 1 to 10."
      ],
      "metadata": {
        "id": "LdcCNGHdMMgt"
      }
    },
    {
      "cell_type": "code",
      "source": [
        "for i in range(1, 11):\n",
        "  print(i)"
      ],
      "metadata": {
        "colab": {
          "base_uri": "https://localhost:8080/"
        },
        "id": "FJ0ydn6bMNmV",
        "outputId": "885fcbe4-e99a-4e70-c030-f26e261e1af9"
      },
      "execution_count": 23,
      "outputs": [
        {
          "output_type": "stream",
          "name": "stdout",
          "text": [
            "1\n",
            "2\n",
            "3\n",
            "4\n",
            "5\n",
            "6\n",
            "7\n",
            "8\n",
            "9\n",
            "10\n"
          ]
        }
      ]
    },
    {
      "cell_type": "markdown",
      "source": [
        "13.\tWrite a Python program to find the sum of all even numbers between 1 and 50."
      ],
      "metadata": {
        "id": "9F-FUFpOMTpN"
      }
    },
    {
      "cell_type": "code",
      "source": [
        "z = 0\n",
        "for z1 in range (2, 51, 2):\n",
        "\tz += z1\n",
        "print(z)"
      ],
      "metadata": {
        "colab": {
          "base_uri": "https://localhost:8080/"
        },
        "id": "2i79kHx6MUml",
        "outputId": "44958c33-625d-4a0d-fa7a-c0c51cd5b45d"
      },
      "execution_count": 24,
      "outputs": [
        {
          "output_type": "stream",
          "name": "stdout",
          "text": [
            "650\n"
          ]
        }
      ]
    },
    {
      "cell_type": "markdown",
      "source": [
        "14.\tWrite a program to reverse a string using a while loop."
      ],
      "metadata": {
        "id": "imX5DtjtMcrA"
      }
    },
    {
      "cell_type": "code",
      "source": [
        "name = str(input(\"Enter your name \"))\n",
        "ab = len(name) - 1\n",
        "while ab >= 0:\n",
        "  print(name[ab], end= \"\")\n",
        "  ab = ab - 1"
      ],
      "metadata": {
        "colab": {
          "base_uri": "https://localhost:8080/"
        },
        "id": "dmkFcjVOMaFo",
        "outputId": "9bbaa789-1e27-40eb-c7e3-9b3cd6adfcde"
      },
      "execution_count": 31,
      "outputs": [
        {
          "output_type": "stream",
          "name": "stdout",
          "text": [
            "Enter your name neha\n",
            "ahen"
          ]
        }
      ]
    },
    {
      "cell_type": "markdown",
      "source": [
        "15.\tWrite a Python program to calculate the factorial of a number provided by the user using a while loop."
      ],
      "metadata": {
        "id": "P_KvyrFxNGFO"
      }
    },
    {
      "cell_type": "code",
      "source": [
        "num = int(input(\"Enter a non-negative integer: \"))\n",
        "\n",
        "if num < 0:\n",
        "    print(\"Factorial is not defined for negative numbers.\")\n",
        "else:\n",
        "    factorial = 1\n",
        "    i = 1\n",
        "\n",
        "    while i <= num:\n",
        "        factorial *= i\n",
        "        i += 1\n",
        "\n",
        "    print(f\"The factorial of {num} is {factorial}.\")"
      ],
      "metadata": {
        "colab": {
          "base_uri": "https://localhost:8080/"
        },
        "id": "X7g_XVE7Mg9o",
        "outputId": "18dd7954-ff47-4455-c95b-55b722f4c379"
      },
      "execution_count": 38,
      "outputs": [
        {
          "output_type": "stream",
          "name": "stdout",
          "text": [
            "Enter a non-negative integer: 9\n",
            "The factorial of 9 is 362880.\n"
          ]
        }
      ]
    }
  ]
}